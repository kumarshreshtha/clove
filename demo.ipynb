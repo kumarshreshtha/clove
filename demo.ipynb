{
 "cells": [
  {
   "cell_type": "code",
   "execution_count": 1,
   "id": "af5b83c6",
   "metadata": {},
   "outputs": [
    {
     "ename": "AttributeError",
     "evalue": "partially initialized module 'yaad.node' has no attribute 'Node' (most likely due to a circular import)",
     "output_type": "error",
     "traceback": [
      "\u001b[0;31m---------------------------------------------------------------------------\u001b[0m",
      "\u001b[0;31mAttributeError\u001b[0m                            Traceback (most recent call last)",
      "Input \u001b[0;32mIn [1]\u001b[0m, in \u001b[0;36m<cell line: 1>\u001b[0;34m()\u001b[0m\n\u001b[0;32m----> 1\u001b[0m \u001b[38;5;28;01mfrom\u001b[39;00m \u001b[38;5;21;01myaad\u001b[39;00m \u001b[38;5;28;01mimport\u001b[39;00m Node\n\u001b[1;32m      2\u001b[0m \u001b[38;5;28;01mfrom\u001b[39;00m \u001b[38;5;21;01myaad\u001b[39;00m \u001b[38;5;28;01mimport\u001b[39;00m ops\n\u001b[1;32m      3\u001b[0m \u001b[38;5;28;01mfrom\u001b[39;00m \u001b[38;5;21;01myaad\u001b[39;00m \u001b[38;5;28;01mimport\u001b[39;00m dot\n",
      "File \u001b[0;32m/workspace/personal/yaad/yaad/__init__.py:1\u001b[0m, in \u001b[0;36m<module>\u001b[0;34m\u001b[0m\n\u001b[0;32m----> 1\u001b[0m \u001b[38;5;28;01mfrom\u001b[39;00m \u001b[38;5;21;01m.\u001b[39;00m\u001b[38;5;21;01mnode\u001b[39;00m \u001b[38;5;28;01mimport\u001b[39;00m Node\n\u001b[1;32m      2\u001b[0m \u001b[38;5;28;01mfrom\u001b[39;00m \u001b[38;5;21;01m.\u001b[39;00m\u001b[38;5;21;01mops\u001b[39;00m \u001b[38;5;28;01mimport\u001b[39;00m add, multiply\n",
      "File \u001b[0;32m/workspace/personal/yaad/yaad/node.py:8\u001b[0m, in \u001b[0;36m<module>\u001b[0;34m\u001b[0m\n\u001b[1;32m      5\u001b[0m \u001b[38;5;28;01mfrom\u001b[39;00m \u001b[38;5;21;01mtyping\u001b[39;00m \u001b[38;5;28;01mimport\u001b[39;00m List, Optional, Tuple\n\u001b[1;32m      6\u001b[0m \u001b[38;5;28;01mimport\u001b[39;00m \u001b[38;5;21;01mwarnings\u001b[39;00m\n\u001b[0;32m----> 8\u001b[0m \u001b[38;5;28;01mfrom\u001b[39;00m \u001b[38;5;21;01myaad\u001b[39;00m \u001b[38;5;28;01mimport\u001b[39;00m autograd\n\u001b[1;32m      9\u001b[0m \u001b[38;5;28;01mfrom\u001b[39;00m \u001b[38;5;21;01myaad\u001b[39;00m \u001b[38;5;28;01mimport\u001b[39;00m ops\n\u001b[1;32m     12\u001b[0m \u001b[38;5;66;03m# TODO: add zero grad.\u001b[39;00m\n",
      "File \u001b[0;32m/workspace/personal/yaad/yaad/autograd.py:5\u001b[0m, in \u001b[0;36m<module>\u001b[0;34m\u001b[0m\n\u001b[1;32m      2\u001b[0m \u001b[38;5;28;01mfrom\u001b[39;00m \u001b[38;5;21;01m__future__\u001b[39;00m \u001b[38;5;28;01mimport\u001b[39;00m annotations\n\u001b[1;32m      3\u001b[0m \u001b[38;5;28;01mfrom\u001b[39;00m \u001b[38;5;21;01mtyping\u001b[39;00m \u001b[38;5;28;01mimport\u001b[39;00m List, Optional, Sequence\n\u001b[0;32m----> 5\u001b[0m \u001b[38;5;28;01mfrom\u001b[39;00m \u001b[38;5;21;01myaad\u001b[39;00m \u001b[38;5;28;01mimport\u001b[39;00m ops\n\u001b[1;32m      6\u001b[0m \u001b[38;5;28;01mfrom\u001b[39;00m \u001b[38;5;21;01myaad\u001b[39;00m \u001b[38;5;28;01mimport\u001b[39;00m node\n\u001b[1;32m      9\u001b[0m \u001b[38;5;28;01mdef\u001b[39;00m \u001b[38;5;21mtopological_order\u001b[39m(root: Optional[ops\u001b[38;5;241m.\u001b[39mOperator],\n\u001b[1;32m     10\u001b[0m                       _order\u001b[38;5;241m=\u001b[39m\u001b[38;5;28;01mNone\u001b[39;00m,\n\u001b[1;32m     11\u001b[0m                       _visited\u001b[38;5;241m=\u001b[39m\u001b[38;5;28;01mNone\u001b[39;00m) \u001b[38;5;241m-\u001b[39m\u001b[38;5;241m>\u001b[39m List[ops\u001b[38;5;241m.\u001b[39mOperator]:\n",
      "File \u001b[0;32m/workspace/personal/yaad/yaad/ops.py:28\u001b[0m, in \u001b[0;36m<module>\u001b[0;34m\u001b[0m\n\u001b[1;32m     23\u001b[0m \u001b[38;5;28;01mdef\u001b[39;00m \u001b[38;5;21mprop_grad\u001b[39m(inp):\n\u001b[1;32m     24\u001b[0m     \u001b[38;5;28;01mreturn\u001b[39;00m \u001b[38;5;28misinstance\u001b[39m(inp, node\u001b[38;5;241m.\u001b[39mNode) \u001b[38;5;129;01mand\u001b[39;00m inp\u001b[38;5;241m.\u001b[39mrequires_grad\n\u001b[1;32m     27\u001b[0m \u001b[38;5;129m@dataclasses\u001b[39m\u001b[38;5;241m.\u001b[39mdataclass\n\u001b[0;32m---> 28\u001b[0m \u001b[38;5;28;01mclass\u001b[39;00m \u001b[38;5;21;01mGradStore\u001b[39;00m:\n\u001b[1;32m     29\u001b[0m     value: node\u001b[38;5;241m.\u001b[39mNode \u001b[38;5;241m=\u001b[39m node\u001b[38;5;241m.\u001b[39mNode(\u001b[38;5;241m0.\u001b[39m)\n\u001b[1;32m     31\u001b[0m     \u001b[38;5;28;01mdef\u001b[39;00m \u001b[38;5;21mreset\u001b[39m(\u001b[38;5;28mself\u001b[39m):\n",
      "File \u001b[0;32m/workspace/personal/yaad/yaad/ops.py:29\u001b[0m, in \u001b[0;36mGradStore\u001b[0;34m()\u001b[0m\n\u001b[1;32m     27\u001b[0m \u001b[38;5;129m@dataclasses\u001b[39m\u001b[38;5;241m.\u001b[39mdataclass\n\u001b[1;32m     28\u001b[0m \u001b[38;5;28;01mclass\u001b[39;00m \u001b[38;5;21;01mGradStore\u001b[39;00m:\n\u001b[0;32m---> 29\u001b[0m     value: node\u001b[38;5;241m.\u001b[39mNode \u001b[38;5;241m=\u001b[39m \u001b[43mnode\u001b[49m\u001b[38;5;241;43m.\u001b[39;49m\u001b[43mNode\u001b[49m(\u001b[38;5;241m0.\u001b[39m)\n\u001b[1;32m     31\u001b[0m     \u001b[38;5;28;01mdef\u001b[39;00m \u001b[38;5;21mreset\u001b[39m(\u001b[38;5;28mself\u001b[39m):\n\u001b[1;32m     32\u001b[0m         \u001b[38;5;28mself\u001b[39m\u001b[38;5;241m.\u001b[39mvalue \u001b[38;5;241m=\u001b[39m node\u001b[38;5;241m.\u001b[39mNode(\u001b[38;5;241m0.\u001b[39m)\n",
      "\u001b[0;31mAttributeError\u001b[0m: partially initialized module 'yaad.node' has no attribute 'Node' (most likely due to a circular import)"
     ]
    }
   ],
   "source": [
    "from yaad import Node\n",
    "from yaad import ops\n",
    "from yaad import dot"
   ]
  },
  {
   "cell_type": "code",
   "execution_count": null,
   "id": "de3ae5a0",
   "metadata": {},
   "outputs": [],
   "source": [
    "a = Node(2)\n",
    "b = Node(3, requires_grad=True)\n",
    "c = a*b\n",
    "d = b+c"
   ]
  },
  {
   "cell_type": "code",
   "execution_count": 2,
   "id": "cd26b94c",
   "metadata": {},
   "outputs": [
    {
     "ename": "NameError",
     "evalue": "name 'dot' is not defined",
     "output_type": "error",
     "traceback": [
      "\u001b[0;31m---------------------------------------------------------------------------\u001b[0m",
      "\u001b[0;31mNameError\u001b[0m                                 Traceback (most recent call last)",
      "Input \u001b[0;32mIn [2]\u001b[0m, in \u001b[0;36m<cell line: 1>\u001b[0;34m()\u001b[0m\n\u001b[0;32m----> 1\u001b[0m \u001b[43mdot\u001b[49m\u001b[38;5;241m.\u001b[39mmake_dot(d)\n",
      "\u001b[0;31mNameError\u001b[0m: name 'dot' is not defined"
     ]
    }
   ],
   "source": [
    "dot.make_dot(d)"
   ]
  },
  {
   "cell_type": "code",
   "execution_count": 4,
   "id": "a48a9e6f",
   "metadata": {},
   "outputs": [
    {
     "data": {
      "text/plain": [
       "GradStore(value=0.0)"
      ]
     },
     "execution_count": 4,
     "metadata": {},
     "output_type": "execute_result"
    }
   ],
   "source": [
    "d.op.grad_store"
   ]
  },
  {
   "cell_type": "code",
   "execution_count": 5,
   "id": "581cc90d",
   "metadata": {},
   "outputs": [
    {
     "data": {
      "text/plain": [
       "<yaad.ops.AddOp at 0x7f267c32d190>"
      ]
     },
     "execution_count": 5,
     "metadata": {},
     "output_type": "execute_result"
    }
   ],
   "source": [
    "d.op"
   ]
  },
  {
   "cell_type": "code",
   "execution_count": 6,
   "id": "150517c7",
   "metadata": {},
   "outputs": [
    {
     "name": "stdout",
     "output_type": "stream",
     "text": [
      "Node(data=1.0)\n"
     ]
    },
    {
     "ename": "AttributeError",
     "evalue": "'Node' object has no attribute 'value'",
     "output_type": "error",
     "traceback": [
      "\u001b[0;31m---------------------------------------------------------------------------\u001b[0m",
      "\u001b[0;31mAttributeError\u001b[0m                            Traceback (most recent call last)",
      "Input \u001b[0;32mIn [6]\u001b[0m, in \u001b[0;36m<cell line: 1>\u001b[0;34m()\u001b[0m\n\u001b[0;32m----> 1\u001b[0m \u001b[43md\u001b[49m\u001b[38;5;241;43m.\u001b[39;49m\u001b[43mbackward\u001b[49m\u001b[43m(\u001b[49m\u001b[43m)\u001b[49m\n",
      "File \u001b[0;32m/workspace/personal/yaad/yaad/node.py:69\u001b[0m, in \u001b[0;36mNode.backward\u001b[0;34m(self, _grad_output)\u001b[0m\n\u001b[1;32m     65\u001b[0m \u001b[38;5;28;01mdef\u001b[39;00m \u001b[38;5;21mbackward\u001b[39m(\u001b[38;5;28mself\u001b[39m, _grad_output\u001b[38;5;241m=\u001b[39m\u001b[38;5;28;01mNone\u001b[39;00m):\n\u001b[1;32m     66\u001b[0m     \u001b[38;5;66;03m# TODO: add retain_graph and create graph\u001b[39;00m\n\u001b[1;32m     67\u001b[0m     \u001b[38;5;66;03m# TODO: maybe changing the requires_grad here is all we need for higher\u001b[39;00m\n\u001b[1;32m     68\u001b[0m     \u001b[38;5;66;03m# order derivatives.\u001b[39;00m\n\u001b[0;32m---> 69\u001b[0m     \u001b[43mautograd\u001b[49m\u001b[38;5;241;43m.\u001b[39;49m\u001b[43mbackward\u001b[49m\u001b[43m(\u001b[49m\u001b[38;5;28;43mself\u001b[39;49m\u001b[43m,\u001b[49m\u001b[43m \u001b[49m\u001b[43m_grad_output\u001b[49m\u001b[43m)\u001b[49m\n",
      "File \u001b[0;32m/workspace/personal/yaad/yaad/autograd.py:33\u001b[0m, in \u001b[0;36mbackward\u001b[0;34m(output, grad_output, retain_graph, create_graph)\u001b[0m\n\u001b[1;32m     31\u001b[0m output\u001b[38;5;241m.\u001b[39mop\u001b[38;5;241m.\u001b[39mgrad_store \u001b[38;5;241m=\u001b[39m grad_output\n\u001b[1;32m     32\u001b[0m ordered_ops \u001b[38;5;241m=\u001b[39m topological_order(output\u001b[38;5;241m.\u001b[39mop)\n\u001b[0;32m---> 33\u001b[0m \u001b[43mautodiff\u001b[49m\u001b[43m(\u001b[49m\u001b[43mordered_ops\u001b[49m\u001b[43m,\u001b[49m\u001b[43m \u001b[49m\u001b[43mretain_graph\u001b[49m\u001b[43m,\u001b[49m\u001b[43m \u001b[49m\u001b[43maccumulate_grad\u001b[49m\u001b[38;5;241;43m=\u001b[39;49m\u001b[38;5;28;43;01mTrue\u001b[39;49;00m\u001b[43m)\u001b[49m\n",
      "File \u001b[0;32m/workspace/personal/yaad/yaad/autograd.py:46\u001b[0m, in \u001b[0;36mautodiff\u001b[0;34m(ordered_ops, retain_graph, accumulate_grad)\u001b[0m\n\u001b[1;32m     44\u001b[0m op \u001b[38;5;241m=\u001b[39m ordered_ops\u001b[38;5;241m.\u001b[39mpop()\n\u001b[1;32m     45\u001b[0m output \u001b[38;5;241m=\u001b[39m op\u001b[38;5;241m.\u001b[39mvariable\n\u001b[0;32m---> 46\u001b[0m grad_output \u001b[38;5;241m=\u001b[39m \u001b[43mop\u001b[49m\u001b[38;5;241;43m.\u001b[39;49m\u001b[43mgrad_store\u001b[49m\u001b[38;5;241;43m.\u001b[39;49m\u001b[43mvalue\u001b[49m\n\u001b[1;32m     47\u001b[0m op\u001b[38;5;241m.\u001b[39mgrad_store\u001b[38;5;241m.\u001b[39mreset()\n\u001b[1;32m     48\u001b[0m \u001b[38;5;28;01mif\u001b[39;00m (accumulate_grad\n\u001b[1;32m     49\u001b[0m         \u001b[38;5;129;01mand\u001b[39;00m output \u001b[38;5;129;01mis\u001b[39;00m \u001b[38;5;129;01mnot\u001b[39;00m \u001b[38;5;28;01mNone\u001b[39;00m\n\u001b[1;32m     50\u001b[0m         \u001b[38;5;129;01mand\u001b[39;00m (output\u001b[38;5;241m.\u001b[39mis_leaf() \u001b[38;5;129;01mor\u001b[39;00m output\u001b[38;5;241m.\u001b[39mretains_grad)):\n",
      "\u001b[0;31mAttributeError\u001b[0m: 'Node' object has no attribute 'value'"
     ]
    }
   ],
   "source": [
    "d.backward()"
   ]
  },
  {
   "cell_type": "code",
   "execution_count": 5,
   "id": "3a734982",
   "metadata": {},
   "outputs": [
    {
     "data": {
      "text/plain": [
       "(<yaad.ops.LeafOp at 0x7f9ff4643190>, <yaad.ops.MulOp at 0x7f9ff46430a0>)"
      ]
     },
     "execution_count": 5,
     "metadata": {},
     "output_type": "execute_result"
    }
   ],
   "source": [
    "d.op.next_ops"
   ]
  },
  {
   "cell_type": "code",
   "execution_count": 5,
   "id": "416865da",
   "metadata": {},
   "outputs": [
    {
     "data": {
      "text/plain": [
       "Node(data=1.0)"
      ]
     },
     "execution_count": 5,
     "metadata": {},
     "output_type": "execute_result"
    }
   ],
   "source": [
    "d.op.grad_store"
   ]
  },
  {
   "cell_type": "code",
   "execution_count": 6,
   "id": "292bff76",
   "metadata": {},
   "outputs": [],
   "source": [
    "e = b+c"
   ]
  },
  {
   "cell_type": "code",
   "execution_count": 7,
   "id": "6b42a263",
   "metadata": {},
   "outputs": [
    {
     "data": {
      "text/plain": [
       "GradStore(value=0.0)"
      ]
     },
     "execution_count": 7,
     "metadata": {},
     "output_type": "execute_result"
    }
   ],
   "source": [
    "e.op.grad_store"
   ]
  },
  {
   "cell_type": "code",
   "execution_count": null,
   "id": "5bf4fbcd",
   "metadata": {},
   "outputs": [],
   "source": []
  }
 ],
 "metadata": {
  "kernelspec": {
   "display_name": "Python 3 (ipykernel)",
   "language": "python",
   "name": "python3"
  },
  "language_info": {
   "codemirror_mode": {
    "name": "ipython",
    "version": 3
   },
   "file_extension": ".py",
   "mimetype": "text/x-python",
   "name": "python",
   "nbconvert_exporter": "python",
   "pygments_lexer": "ipython3",
   "version": "3.8.10"
  }
 },
 "nbformat": 4,
 "nbformat_minor": 5
}
